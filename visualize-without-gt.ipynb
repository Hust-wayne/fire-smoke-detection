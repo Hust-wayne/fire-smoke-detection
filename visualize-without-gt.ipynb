{
 "cells": [
  {
   "cell_type": "code",
   "execution_count": null,
   "metadata": {},
   "outputs": [],
   "source": [
    "%reload_ext autoreload\n",
    "%autoreload 2\n",
    "%matplotlib inline\n",
    "\n",
    "import os\n",
    "import sys\n",
    "\n",
    "import torch\n",
    "import torch.nn as nn\n",
    "from torch.optim import lr_scheduler\n",
    "import torch.optim as optim\n",
    "import torchvision\n",
    "import torchvision.transforms as transforms\n",
    "\n",
    "from dataset import *\n",
    "from resnet import *\n",
    "from classifier import *\n",
    "from sampler import BalancedStatisticSampler\n",
    "from visualize import *"
   ]
  },
  {
   "cell_type": "code",
   "execution_count": null,
   "metadata": {},
   "outputs": [],
   "source": [
    "TRAIN_NAME = 'slice'\n",
    "TRAIN_ID = '01'\n",
    "EPOCH = 8\n",
    "\n",
    "SHOW_COUNT = 50\n",
    "\n",
    "POS_THRESHOLD = 0.1\n",
    "NEG_THRESHOLD = 0.01\n",
    "SCORE_THRESHOLD = 0.5\n",
    "\n",
    "# data consts\n",
    "ROOT_PATH = '/home/xd/data/fire/test_1'\n",
    "NUM_CLASSES = 2 # fg + 1(bg)\n",
    "READ_SIZE = (640, 480)\n",
    "SLICE_SIZE = 40\n",
    "SLICE_COUNT = READ_SIZE[0] * READ_SIZE[1] // (SLICE_SIZE * SLICE_SIZE)\n",
    "INPUT_SIZE = 224\n",
    "BATCH_SIZE = 64\n",
    "NUM_WORKERS = 16\n",
    "\n",
    "# trainer consts\n",
    "DEVICE = 'cuda'"
   ]
  },
  {
   "cell_type": "code",
   "execution_count": null,
   "metadata": {},
   "outputs": [],
   "source": [
    "val_trans = transforms.Compose([\n",
    "    transforms.ToPILImage(),\n",
    "    transforms.Resize((INPUT_SIZE, INPUT_SIZE)),\n",
    "    transforms.ToTensor(),\n",
    "    transforms.Normalize(\n",
    "        mean=[0.485, 0.456, 0.406],\n",
    "        std=[0.229, 0.224, 0.225]\n",
    "    )\n",
    "])"
   ]
  },
  {
   "cell_type": "code",
   "execution_count": null,
   "metadata": {},
   "outputs": [],
   "source": [
    "# model\n",
    "device = torch.device(DEVICE)\n",
    "\n",
    "model = resnet101(pretrained=False, num_classes=NUM_CLASSES)\n",
    "\n",
    "checkpoint_path = os.path.join('./models', '{}_{}'.format(TRAIN_NAME, TRAIN_ID), '{:0>3d}.pth'.format(EPOCH))\n",
    "cp_state_dict = torch.load(checkpoint_path, map_location='cpu')\n",
    "\n",
    "if 'module' in list(cp_state_dict.keys())[0]:\n",
    "    new_state_dict = {}\n",
    "    \n",
    "    for key, value in cp_state_dict.items():\n",
    "        new_state_dict[key.split('.', 1)[1]] = value\n",
    "    \n",
    "    model.load_state_dict(new_state_dict)\n",
    "else:\n",
    "    model.load_state_dict(cp_state_dict)\n",
    "\n",
    "if torch.cuda.device_count() > 1:\n",
    "    model = nn.DataParallel(model)\n",
    "model = model.to(device)"
   ]
  },
  {
   "cell_type": "code",
   "execution_count": null,
   "metadata": {},
   "outputs": [],
   "source": [
    "data_path = os.path.join(ROOT_PATH, 'images')\n",
    "img_names = os.listdir(data_path)\n",
    "\n",
    "with tqdm(total=SHOW_COUNT, file=sys.stdout) as pbar:\n",
    "    for frame_no, img_name in enumerate(img_names):\n",
    "        img_path = os.path.join(ROOT_PATH, 'images', img_name)\n",
    "\n",
    "        pred_img = slice_plots(\n",
    "            model,\n",
    "            device,\n",
    "            img_path,\n",
    "            SLICE_SIZE,\n",
    "            READ_SIZE,\n",
    "            val_trans,\n",
    "            SCORE_THRESHOLD,\n",
    "            mask_path=None,\n",
    "            gt_thres=0.05\n",
    "        )\n",
    "        \n",
    "        fig=plt.figure(figsize=(16,12))\n",
    "        plt.imshow(pred_img)\n",
    "        plt.show()\n",
    "\n",
    "        pbar.update(1)\n",
    "        \n",
    "        if frame_no == SHOW_COUNT-1:\n",
    "            break"
   ]
  },
  {
   "cell_type": "code",
   "execution_count": null,
   "metadata": {},
   "outputs": [],
   "source": []
  }
 ],
 "metadata": {
  "kernelspec": {
   "display_name": "cc",
   "language": "python",
   "name": "pytorch"
  },
  "language_info": {
   "codemirror_mode": {
    "name": "ipython",
    "version": 3
   },
   "file_extension": ".py",
   "mimetype": "text/x-python",
   "name": "python",
   "nbconvert_exporter": "python",
   "pygments_lexer": "ipython3",
   "version": "3.7.6"
  }
 },
 "nbformat": 4,
 "nbformat_minor": 4
}
