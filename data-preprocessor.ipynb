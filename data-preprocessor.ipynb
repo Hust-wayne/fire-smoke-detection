{
 "cells": [
  {
   "cell_type": "markdown",
   "metadata": {},
   "source": [
    "# Data Processors"
   ]
  },
  {
   "cell_type": "code",
   "execution_count": 17,
   "metadata": {},
   "outputs": [],
   "source": [
    "%reload_ext autoreload\n",
    "%autoreload 2\n",
    "%matplotlib inline\n",
    "\n",
    "import os\n",
    "import sys\n",
    "import json\n",
    "import multiprocessing\n",
    "from multiprocessing import Pool\n",
    "from functools import partial\n",
    "\n",
    "import cv2\n",
    "import numpy as np\n",
    "from PIL import Image\n",
    "from matplotlib import pyplot as plt\n",
    "from tqdm import tqdm"
   ]
  },
  {
   "cell_type": "code",
   "execution_count": 2,
   "metadata": {},
   "outputs": [],
   "source": [
    "base_dir = '/home/xd/data/fire'\n",
    "ds = '2'\n",
    "\n",
    "img_dir = os.path.join(base_dir, ds, 'images')\n",
    "label_dir = os.path.join(base_dir, ds, 'labels')\n",
    "mask_dir = os.path.join(base_dir, ds, 'masks')\n",
    "\n",
    "if not os.path.isdir(mask_dir):\n",
    "    os.makedirs(mask_dir)\n",
    "    \n",
    "img_names = os.listdir(img_dir)\n",
    "\n",
    "img_paths = [os.path.join(img_dir, img_name) for img_name in img_names]\n",
    "label_paths = [os.path.join(label_dir, img_name.split('.')[0] + '.json') for img_name in img_names]"
   ]
  },
  {
   "cell_type": "markdown",
   "metadata": {},
   "source": [
    "## Mask Creation"
   ]
  },
  {
   "cell_type": "code",
   "execution_count": 13,
   "metadata": {},
   "outputs": [],
   "source": [
    "def export_mask(label_path):\n",
    "    label_cont = json.load(open(label_path))\n",
    "    \n",
    "    width = label_cont['materialInfo']['width']\n",
    "    height = label_cont['materialInfo']['high']\n",
    "    annos = label_cont['annotateInfo']\n",
    "    \n",
    "    mask = np.zeros((height, width), dtype=np.uint8)\n",
    "    \n",
    "    contours_all = []\n",
    "    empty_all = []\n",
    "    \n",
    "    # parser\n",
    "    for anno in annos:\n",
    "        positions = anno['positions'][0]['positions']\n",
    "\n",
    "        st_empty = positions.find('empty')\n",
    "        st_meaningful = positions.find('meaningful')\n",
    "\n",
    "        ed_empty = positions.find(']', st_empty)\n",
    "        ed_meaningful = positions.find(']', st_meaningful)\n",
    "\n",
    "\n",
    "        meaningful_cut = positions[st_meaningful + 14: ed_meaningful - 1]\n",
    "        empty_cut = positions[st_empty + 10: ed_empty - 1]\n",
    "\n",
    "        meaningful_pos = meaningful_cut.split('},{')\n",
    "        empty_pos = empty_cut.split('},{')\n",
    "\n",
    "        if len(meaningful_pos) > 1:\n",
    "            contours = np.ndarray((len(meaningful_pos), 1, 2), dtype=np.int32)\n",
    "            for index, pos in enumerate(meaningful_pos):\n",
    "                x = pos.split(',')[0].split(':')[-1]\n",
    "                y = pos.split(',')[1].split(':')[-1]\n",
    "\n",
    "                contours[index][0][0] = int(float(x))\n",
    "                contours[index][0][1] = int(float(y))\n",
    "            contours_all.append(contours)\n",
    "\n",
    "        if len(empty_pos) > 1:\n",
    "            contours = np.ndarray((len(empty_pos), 1, 2), dtype=np.int32)\n",
    "            for index, pos in enumerate(empty_pos):\n",
    "                x = pos.split(',')[0].split(':')[-1]\n",
    "                y = pos.split(',')[1].split(':')[-1]\n",
    "\n",
    "                contours[index][0][0] = int(float(x))\n",
    "                contours[index][0][1] = int(float(y))\n",
    "            empty_all.append(contours)\n",
    "            \n",
    "    cv2.drawContours(mask, contours_all, -1, (255), thickness=cv2.FILLED)\n",
    "    cv2.drawContours(mask, empty_all, -1, (0), thickness=cv2.FILLED)\n",
    "    \n",
    "    return mask"
   ]
  },
  {
   "cell_type": "code",
   "execution_count": 16,
   "metadata": {},
   "outputs": [
    {
     "name": "stdout",
     "output_type": "stream",
     "text": [
      " 12%|█▏        | 381/3153 [00:05<00:51, 54.13it/s]/home/xd/data/fire/2/labels/1194932391064698883.json\n",
      "100%|██████████| 3153/3153 [00:44<00:00, 70.82it/s] \n"
     ]
    }
   ],
   "source": [
    "with tqdm(total=len(label_paths), file=sys.stdout) as pbar:\n",
    "    for img_name, label_path in zip(img_names, label_paths):\n",
    "        pbar.update(1)\n",
    "        \n",
    "        if not os.path.exists(label_path):\n",
    "            print(label_path)\n",
    "            continue\n",
    "            \n",
    "        mask = export_mask(label_path)\n",
    "        mask_img = Image.fromarray(mask)\n",
    "        \n",
    "        mask_path = os.path.join(mask_dir, img_name.split('.')[0] + '.png')\n",
    "        mask_img.save(mask_path)"
   ]
  },
  {
   "cell_type": "markdown",
   "metadata": {},
   "source": [
    "## JPEG to PNG Convertor"
   ]
  },
  {
   "cell_type": "code",
   "execution_count": 8,
   "metadata": {},
   "outputs": [],
   "source": [
    "base_dir = '/home/xd/data/fire'\n",
    "ds = 'large'\n",
    "\n",
    "img_dir = os.path.join(base_dir, ds, 'images')\n",
    "mask_dir = os.path.join(base_dir, ds, 'masks')\n",
    "\n",
    "img_names = os.listdir(img_dir)"
   ]
  },
  {
   "cell_type": "code",
   "execution_count": 4,
   "metadata": {},
   "outputs": [],
   "source": [
    "def convert_worker(img_name, img_dir=''):\n",
    "    target_name = os.path.join(img_dir, img_name.split('.')[0] + '.png')\n",
    "    img = Image.open(os.path.join(img_dir, img_name))\n",
    "    img.save(os.path.join(img_dir, target_name))\n",
    "    img.close()\n",
    "    \n",
    "convert_worker_wrapper = partial(convert_worker, img_dir=img_dir)"
   ]
  },
  {
   "cell_type": "code",
   "execution_count": 5,
   "metadata": {},
   "outputs": [
    {
     "name": "stdout",
     "output_type": "stream",
     "text": [
      "  5%|▍         | 238/4918 [00:44<10:15,  7.61it/s]1194940096135729155.jpg\n",
      " 14%|█▎        | 672/4918 [02:24<18:56,  3.74it/s]  1194932466734501892.jpg\n",
      " 15%|█▍        | 718/4918 [02:28<05:07, 13.68it/s]1194940066431303685.jpg\n",
      " 38%|███▊      | 1864/4918 [06:34<32:56,  1.55it/s]  1194939997858992132.jpg\n",
      " 59%|█████▉    | 2913/4918 [10:29<10:40,  3.13it/s]  1194940088191717379.jpg\n",
      " 60%|██████    | 2972/4918 [10:39<10:17,  3.15it/s]1194940030599364611.jpg\n",
      " 99%|█████████▉| 4858/4918 [18:11<00:11,  5.39it/s]1194940093291966467.jpg\n",
      "100%|██████████| 4918/4918 [18:21<00:00,  4.47it/s]\n"
     ]
    }
   ],
   "source": [
    "# there's something wrong with pil multiprocessing\n",
    "'''\n",
    "with Pool(multiprocessing.cpu_count()*2) as p:\n",
    "    rs = list(tqdm(\n",
    "        p.imap(convert_worker_wrapper, img_names),\n",
    "        total=len(img_names)\n",
    "    ))\n",
    "'''\n",
    "\n",
    "with tqdm(total=len(img_names), file=sys.stdout) as pbar:\n",
    "    for img_name in img_names:\n",
    "        pbar.update(1)\n",
    "        \n",
    "        try:\n",
    "            convert_worker_wrapper(img_name)\n",
    "        except:\n",
    "            print(img_name)"
   ]
  },
  {
   "cell_type": "code",
   "execution_count": 12,
   "metadata": {},
   "outputs": [
    {
     "name": "stdout",
     "output_type": "stream",
     "text": [
      "/home/xd/data/fire/large/masks/1194932466734501892.png\n",
      "/home/xd/data/fire/large/masks/1194940030599364611.png\n",
      "/home/xd/data/fire/large/masks/1194940088191717379.png\n",
      "/home/xd/data/fire/large/masks/1194940093291966467.png\n",
      "/home/xd/data/fire/large/masks/1194939997858992132.png\n",
      "/home/xd/data/fire/large/masks/1194940066431303685.png\n",
      "/home/xd/data/fire/large/masks/1194940096135729155.png\n"
     ]
    }
   ],
   "source": [
    "# remove non-png files from img_dir manully\n",
    "\n",
    "img_names = os.listdir(img_dir)\n",
    "mask_names = os.listdir(mask_dir)\n",
    "\n",
    "for mask_name in mask_names:\n",
    "    if mask_name not in img_names:\n",
    "        mask_path = os.path.join(mask_dir, mask_name)\n",
    "        print(mask_path)\n",
    "        \n",
    "        os.remove(mask_path)"
   ]
  },
  {
   "cell_type": "markdown",
   "metadata": {},
   "source": [
    "## Simple Data Mining"
   ]
  },
  {
   "cell_type": "code",
   "execution_count": 14,
   "metadata": {},
   "outputs": [],
   "source": [
    "mask_dir = os.path.join(base_dir, 'masks')"
   ]
  },
  {
   "cell_type": "code",
   "execution_count": 41,
   "metadata": {},
   "outputs": [],
   "source": [
    "mask_names = os.listdir(mask_dir)\n",
    "\n",
    "def get_counts(mask_name, mask_dir):\n",
    "    mask = cv2.imread(os.path.join(mask_dir, mask_name))\n",
    "    g_mask = cv2.cvtColor(mask, cv2.COLOR_BGR2GRAY)\n",
    "\n",
    "    return len(np.nonzero(g_mask)[0]), g_mask.shape"
   ]
  },
  {
   "cell_type": "code",
   "execution_count": 42,
   "metadata": {},
   "outputs": [],
   "source": [
    "rs = [get_counts(mask_name, mask_dir) for mask_name in mask_names]"
   ]
  },
  {
   "cell_type": "code",
   "execution_count": 48,
   "metadata": {},
   "outputs": [
    {
     "name": "stdout",
     "output_type": "stream",
     "text": [
      "4911\n",
      "801.0146609651802\n",
      "589.227652209326\n"
     ]
    }
   ],
   "source": [
    "counts = []\n",
    "shapes = []\n",
    "\n",
    "for r in rs:\n",
    "    counts.append(r[0])\n",
    "    shapes.append(r[1])\n",
    "    \n",
    "print(len(np.nonzero(counts)[0]))\n",
    "print(np.mean([y for x, y in shapes]))\n",
    "print(np.mean([x for x, y in shapes]))"
   ]
  },
  {
   "cell_type": "code",
   "execution_count": null,
   "metadata": {},
   "outputs": [],
   "source": []
  }
 ],
 "metadata": {
  "kernelspec": {
   "display_name": "Python (chromo-mask)",
   "language": "python",
   "name": "chromo-mask"
  },
  "language_info": {
   "codemirror_mode": {
    "name": "ipython",
    "version": 3
   },
   "file_extension": ".py",
   "mimetype": "text/x-python",
   "name": "python",
   "nbconvert_exporter": "python",
   "pygments_lexer": "ipython3",
   "version": "3.7.6"
  }
 },
 "nbformat": 4,
 "nbformat_minor": 4
}
